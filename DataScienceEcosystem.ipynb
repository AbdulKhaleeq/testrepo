{
 "cells": [
  {
   "cell_type": "markdown",
   "id": "ec244eae-0869-47df-9562-896ea4de250e",
   "metadata": {},
   "source": [
    "# Data Science Tools and Ecosystem"
   ]
  },
  {
   "cell_type": "markdown",
   "id": "2c3d8638-790a-4845-8abd-62c1ca700a78",
   "metadata": {},
   "source": [
    "In this notebook, Data Science Tools and Ecosystem are summarized."
   ]
  },
  {
   "cell_type": "markdown",
   "id": "6ea15bff-a630-48f6-ae20-56b5dc7ace74",
   "metadata": {},
   "source": [
    "## Objectives:\n",
    "* List popular languages for Data Science.\n",
    "* List popular libraries for Data Science.\n",
    "* List data science tools.\n",
    "* Evaluate arithmetic expressions in Python.\n",
    "* Convert minutes to hours in Python."
   ]
  },
  {
   "cell_type": "markdown",
   "id": "8c08c786-c5c2-4646-86c7-eed41c1c7c45",
   "metadata": {},
   "source": [
    "## Popular data science languages\n",
    "\n",
    "1. Python\n",
    "2. R\n",
    "3. Julia"
   ]
  },
  {
   "cell_type": "markdown",
   "id": "8d91adcc-993b-4ae3-b417-b586a05206e8",
   "metadata": {},
   "source": [
    "## Popular data science libraries\n",
    "\n",
    "1. NumPy\n",
    "2. Pandas\n",
    "3. Matplotlib"
   ]
  },
  {
   "cell_type": "markdown",
   "id": "54690ad8-3003-49c3-a080-c3702131ed27",
   "metadata": {},
   "source": [
    "## Data science tools\n",
    "\n",
    "| Data Science Tools |\n",
    "|:------------------:|\n",
    "| Jupyter Notebook  |\n",
    "| RStudio           |\n",
    "| Visual Studio Code|"
   ]
  },
  {
   "cell_type": "markdown",
   "id": "b2ff8fee-5497-49f0-88e0-80d53b6292fc",
   "metadata": {},
   "source": [
    "### Below are a few examples of evaluating arithmetic expressions in Python"
   ]
  },
  {
   "cell_type": "code",
   "execution_count": 1,
   "id": "f730c887-8d8b-4d64-885f-04bbbf9f62c5",
   "metadata": {
    "tags": []
   },
   "outputs": [
    {
     "data": {
      "text/plain": [
       "17"
      ]
     },
     "execution_count": 1,
     "metadata": {},
     "output_type": "execute_result"
    }
   ],
   "source": [
    "# This a simple arithmetic expression to mutiply then add integers.\n",
    "\n",
    "(3 * 4) + 5\n"
   ]
  },
  {
   "cell_type": "code",
   "execution_count": 2,
   "id": "07b49e84-df5d-4adb-885b-57d6dfe4d00b",
   "metadata": {
    "tags": []
   },
   "outputs": [
    {
     "data": {
      "text/plain": [
       "3.3333333333333335"
      ]
     },
     "execution_count": 2,
     "metadata": {},
     "output_type": "execute_result"
    }
   ],
   "source": [
    "# This will convert 200 minutes to hours by diving by 60.\n",
    "\n",
    "200 / 60\n"
   ]
  },
  {
   "cell_type": "markdown",
   "id": "8e43564a-b94d-4a4f-b506-f799d9e57bba",
   "metadata": {},
   "source": [
    "## Author\n",
    "Abdul khaleeq"
   ]
  }
 ],
 "metadata": {
  "kernelspec": {
   "display_name": "Python",
   "language": "python",
   "name": "conda-env-python-py"
  },
  "language_info": {
   "codemirror_mode": {
    "name": "ipython",
    "version": 3
   },
   "file_extension": ".py",
   "mimetype": "text/x-python",
   "name": "python",
   "nbconvert_exporter": "python",
   "pygments_lexer": "ipython3",
   "version": "3.7.12"
  }
 },
 "nbformat": 4,
 "nbformat_minor": 5
}
